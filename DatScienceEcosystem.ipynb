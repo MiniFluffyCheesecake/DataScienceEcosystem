{
 "cells": [
  {
   "cell_type": "markdown",
   "id": "2c4d2be4-a1c4-478f-aa23-5c22daed8295",
   "metadata": {},
   "source": [
    "In this notebook, Data Science Tools and Ecosystems are summarized"
   ]
  },
  {
   "cell_type": "markdown",
   "id": "b9313c6c-49a4-4a92-a997-376b395addd8",
   "metadata": {},
   "source": [
    "**Objective:**\n",
    "- List of the popular languages used in Data Science\n",
    "- List of commonly used libraries in Data Science\n",
    "- Table of Data Science Tools\n",
    "- Examples of arithmetic expressions in python\n",
    "\n",
    "## Author\n",
    "Michelle Misyutina"
   ]
  },
  {
   "cell_type": "markdown",
   "id": "4e0af739-3a6f-4e0a-a4fa-a43524915d55",
   "metadata": {},
   "source": [
    "# Data Science Tools and Ecosystem"
   ]
  },
  {
   "cell_type": "markdown",
   "id": "67abea7b-2b77-4248-a338-bc44dd77a9ab",
   "metadata": {},
   "source": [
    "#Some of the popular languages that Data Scientists use are: \n",
    "1. Java\n",
    "2. Python\n",
    "3. C++"
   ]
  },
  {
   "cell_type": "markdown",
   "id": "a2423f48-ec2f-4141-bc16-c2044ec54c68",
   "metadata": {},
   "source": [
    "#Some of the commonly used used libraries used by Data Scientists include:\n",
    "1. Pandas\n",
    "2. Numpy\n",
    "3. Seaborn"
   ]
  },
  {
   "cell_type": "markdown",
   "id": "c1355b05-7098-4d23-9ddf-f9d836d62974",
   "metadata": {},
   "source": [
    "|Data Science Tools| \n",
    "------------------\n",
    "|Hadoop           |                 \n",
    "|Spark            |  \n",
    "|Pandas           | \n"
   ]
  },
  {
   "cell_type": "markdown",
   "id": "258a88e8-1caf-4c83-b0f5-4f68c135581b",
   "metadata": {},
   "source": [
    "### Examples of evaluating arithmetic expressions in Python\n"
   ]
  },
  {
   "cell_type": "code",
   "execution_count": 91,
   "id": "a7a4c1a7-45a6-46e2-8e23-935f10900b38",
   "metadata": {},
   "outputs": [
    {
     "data": {
      "text/plain": [
       "17"
      ]
     },
     "execution_count": 91,
     "metadata": {},
     "output_type": "execute_result"
    }
   ],
   "source": [
    "#Simple arithmetic expression where you multiply then add integers\n",
    "(3*4)+5"
   ]
  },
  {
   "cell_type": "code",
   "execution_count": 99,
   "id": "09e1b51e-84f4-4745-8307-39eed2e863a2",
   "metadata": {},
   "outputs": [
    {
     "name": "stdout",
     "output_type": "stream",
     "text": [
      "3:20\n"
     ]
    }
   ],
   "source": [
    "#Converting 200 minutes to hours \n",
    "total_minutes = 200\n",
    "\n",
    "# Get hours with floor division\n",
    "hours = total_minutes // 60\n",
    "\n",
    "# Get additional minutes with modulus\n",
    "minutes = total_minutes % 60\n",
    "\n",
    "# Create time as a string\n",
    "time = \"{}:{}\".format(hours, minutes)\n",
    "\n",
    "print(time)"
   ]
  },
  {
   "cell_type": "code",
   "execution_count": null,
   "id": "18b50087-a8b3-4fc4-8976-dbe0c75be34e",
   "metadata": {},
   "outputs": [],
   "source": []
  }
 ],
 "metadata": {
  "kernelspec": {
   "display_name": "anaconda-panel-2023.05-py310",
   "language": "python",
   "name": "conda-env-anaconda-panel-2023.05-py310-py"
  },
  "language_info": {
   "codemirror_mode": {
    "name": "ipython",
    "version": 3
   },
   "file_extension": ".py",
   "mimetype": "text/x-python",
   "name": "python",
   "nbconvert_exporter": "python",
   "pygments_lexer": "ipython3",
   "version": "3.11.5"
  }
 },
 "nbformat": 4,
 "nbformat_minor": 5
}
